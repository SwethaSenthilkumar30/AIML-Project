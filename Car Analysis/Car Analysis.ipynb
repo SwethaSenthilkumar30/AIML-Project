{
 "cells": [
  {
   "cell_type": "code",
   "execution_count": 22,
   "id": "db09e53e-184d-46dd-8869-9c883fce2013",
   "metadata": {},
   "outputs": [],
   "source": [
    "import pandas as pd\n",
    "import numpy as np"
   ]
  },
  {
   "cell_type": "code",
   "execution_count": 28,
   "id": "168e0916-02d4-4400-9f2b-d890e57d1f60",
   "metadata": {},
   "outputs": [
    {
     "name": "stdout",
     "output_type": "stream",
     "text": [
      "    mpg  cylinders  displacement horsepower  weight  acceleration  model  \\\n",
      "0  18.0          8           307        130    3504          12.0     70   \n",
      "1  15.0          8           350        165    3693          11.5     70   \n",
      "2  18.0          8           318        150    3436          11.0     70   \n",
      "3  16.0          8           304        150    3433          12.0     70   \n",
      "4  17.0          8           302        140    3449          10.5     70   \n",
      "\n",
      "   origin                        car  Unnamed: 9  Unnamed: 10  Unnamed: 11  \\\n",
      "0       1  chevrolet chevelle malibu         NaN          NaN          NaN   \n",
      "1       1          buick skylark 320         NaN          NaN          NaN   \n",
      "2       1         plymouth satellite         NaN          NaN          NaN   \n",
      "3       1              amc rebel sst         NaN          NaN          NaN   \n",
      "4       1                ford torino         NaN          NaN          NaN   \n",
      "\n",
      "   Unnamed: 12  Unnamed: 13  \n",
      "0          NaN          NaN  \n",
      "1          NaN          NaN  \n",
      "2          NaN          NaN  \n",
      "3          NaN          NaN  \n",
      "4          NaN          NaN  \n",
      "    mpg  cylinders  displacement horsepower  weight  acceleration  model  \\\n",
      "0  33.0          4            91         53    1795          17.4     76   \n",
      "1  20.0          6           225        100    3651          17.7     76   \n",
      "2  18.0          6           250         78    3574          21.0     76   \n",
      "3  18.5          6           250        110    3645          16.2     76   \n",
      "4  17.5          6           258         95    3193          17.8     76   \n",
      "\n",
      "   origin                 car  \n",
      "0       3         honda civic  \n",
      "1       1      dodge aspen se  \n",
      "2       1   ford granada ghia  \n",
      "3       1  pontiac ventura sj  \n",
      "4       1       amc pacer d/l  \n"
     ]
    }
   ],
   "source": [
    "cars1 = pd.read_csv(\"https://raw.githubusercontent.com/guipsamora/pandas_exercises/master/05_Merge/Auto_MPG/cars1.csv\")\n",
    "cars2 = pd.read_csv(\"https://raw.githubusercontent.com/guipsamora/pandas_exercises/master/05_Merge/Auto_MPG/cars2.csv\")\n",
    "print(cars1.head())\n",
    "print(cars2.head())"
   ]
  },
  {
   "cell_type": "code",
   "execution_count": 34,
   "id": "3cca9708-a7d0-4b7c-8345-78986a3d9eb7",
   "metadata": {},
   "outputs": [
    {
     "name": "stdout",
     "output_type": "stream",
     "text": [
      "    mpg  cylinders  displacement horsepower  weight  acceleration  model  \\\n",
      "1  15.0          8           350        165    3693          11.5     70   \n",
      "2  18.0          8           318        150    3436          11.0     70   \n",
      "3  16.0          8           304        150    3433          12.0     70   \n",
      "4  17.0          8           302        140    3449          10.5     70   \n",
      "5  15.0          8           429        198    4341          10.0     70   \n",
      "\n",
      "   origin                 car  \n",
      "1       1   buick skylark 320  \n",
      "2       1  plymouth satellite  \n",
      "3       1       amc rebel sst  \n",
      "4       1         ford torino  \n",
      "5       1    ford galaxie 500  \n"
     ]
    }
   ],
   "source": [
    "cars1 = cars1.loc[1:, \"mpg\":\"car\"]\n",
    "print(cars1.head())"
   ]
  },
  {
   "cell_type": "code",
   "execution_count": 35,
   "id": "434fddd1-67ed-43f0-a179-c00a96e847f1",
   "metadata": {},
   "outputs": [
    {
     "name": "stdout",
     "output_type": "stream",
     "text": [
      "(197, 9)\n",
      "(200, 9)\n"
     ]
    }
   ],
   "source": [
    "print(cars1.shape)\n",
    "print(cars2.shape)"
   ]
  },
  {
   "cell_type": "code",
   "execution_count": 36,
   "id": "e129e770-8534-4a8e-8e14-6554d522c0fb",
   "metadata": {},
   "outputs": [
    {
     "name": "stdout",
     "output_type": "stream",
     "text": [
      "    mpg  cylinders  displacement horsepower  weight  acceleration  model  \\\n",
      "0  15.0          8           350        165    3693          11.5     70   \n",
      "1  18.0          8           318        150    3436          11.0     70   \n",
      "2  16.0          8           304        150    3433          12.0     70   \n",
      "3  17.0          8           302        140    3449          10.5     70   \n",
      "4  15.0          8           429        198    4341          10.0     70   \n",
      "\n",
      "   origin                 car  \n",
      "0       1   buick skylark 320  \n",
      "1       1  plymouth satellite  \n",
      "2       1       amc rebel sst  \n",
      "3       1         ford torino  \n",
      "4       1    ford galaxie 500  \n"
     ]
    }
   ],
   "source": [
    "cars = pd.concat([cars1, cars2], ignore_index=True)\n",
    "print(cars.head())"
   ]
  },
  {
   "cell_type": "code",
   "execution_count": 39,
   "id": "9d2557bf-d4db-497e-88e4-4c93418df00c",
   "metadata": {},
   "outputs": [
    {
     "name": "stdout",
     "output_type": "stream",
     "text": [
      "[38833 38249 19801 59727 61114 34047 16412 36881 30584 45220 52200 16447\n",
      " 59303 27950 59833 43823 39361 67046 59453 69977 35210 57190 58871 22628\n",
      " 30513 20873 38605 34313 46822 29525 59272 34459 29214 64620 21917 50414\n",
      " 31874 64976 16182 31444 44981 35550 63047 44326 33276 63720 51532 50180\n",
      " 53711 45034 34143 65754 50321 67755 43396 17519 58344 28419 21384 49194\n",
      " 66995 30419 31771 53644 72275 62180 17898 38871 31789 61582 48828 21770\n",
      " 58151 22384 52549 48007 25337 24433 27279 56594 18992 18281 58835 21841\n",
      " 60839 23045 42300 50135 35071 29175 25885 51949 30596 55904 46071 38571\n",
      " 65944 50877 56231 45078 55617 28545 51915 36928 67615 26424 58241 51764\n",
      " 40410 72087 21684 27943 66399 60063 27772 66812 39708 37588 22960 43954\n",
      " 34794 20442 35972 20805 63987 60931 15163 18716 66704 19592 49455 29919\n",
      " 19550 64631 22282 25312 60050 60299 28817 36821 69001 68836 59942 61055\n",
      " 34607 60404 55245 34864 72173 41757 54530 34411 35128 33520 57452 45424\n",
      " 24364 58489 70027 42665 71348 60842 28524 38829 57965 43298 38718 45833\n",
      " 26973 55565 53280 69085 22949 58842 15175 59058 68679 28060 63032 15734\n",
      " 30280 37618 40128 18652 69867 71168 47084 52730 30679 55843 54939 68546\n",
      " 53040 22425 56108 59081 66876 66215 18514 62548 68387 16339 23169 57883\n",
      " 72137 52702 50978 57769 50390 19788 43175 68185 25354 49778 53410 65791\n",
      " 24491 40707 36533 37695 57567 35173 25608 62829 54149 56327 63961 20731\n",
      " 72535 57152 65193 17112 71123 43573 57998 59387 27186 29142 62933 43371\n",
      " 18755 47650 19479 41744 37951 56449 15595 18572 62232 48456 65296 60366\n",
      " 61687 25344 15642 59680 27014 54368 58824 64987 18730 48473 64603 53163\n",
      " 57554 19888 23027 31223 29051 69383 70260 67697 41564 65479 44836 68283\n",
      " 23118 17782 17809 42310 68354 38597 35252 43042 51000 24256 36640 64833\n",
      " 68538 51735 47165 47440 67434 56402 26599 57645 68507 61798 48159 45977\n",
      " 53162 65600 22201 67875 49388 23746 17635 20503 60904 48017 47235 68704\n",
      " 25925 21574 52409 22673 27348 45624 44454 49650 70275 15322 21225 53620\n",
      " 26356 42907 67378 28492 71553 72797 67644 47920 32027 26262 56664 38769\n",
      " 30971 71992 54772 56531 63445 70755 52488 36328 24805 44657 66576 45770\n",
      " 70517 48626 38255 62536 46651 36851 58190 66599 69618 30295 63192 30377\n",
      " 64289 63206 53590 25448 22746 69606 65794 35813 18011 70334 21546 36575\n",
      " 38900 44894 42824 35782 32593 49079 59759 57573 72444 15265 71228 16128\n",
      " 66965 26235 28158 25902 30354 48712 57760 63577 25107 27182 43375 17779\n",
      " 52302 53758]\n"
     ]
    }
   ],
   "source": [
    "nr_owners = np.random.randint(15000, 73001, size=398, dtype='int32')\n",
    "print(nr_owners)"
   ]
  },
  {
   "cell_type": "code",
   "execution_count": 45,
   "id": "61a551e6-4bd2-47a3-83da-a11e38d5b8f2",
   "metadata": {},
   "outputs": [
    {
     "data": {
      "text/html": [
       "<div>\n",
       "<style scoped>\n",
       "    .dataframe tbody tr th:only-of-type {\n",
       "        vertical-align: middle;\n",
       "    }\n",
       "\n",
       "    .dataframe tbody tr th {\n",
       "        vertical-align: top;\n",
       "    }\n",
       "\n",
       "    .dataframe thead th {\n",
       "        text-align: right;\n",
       "    }\n",
       "</style>\n",
       "<table border=\"1\" class=\"dataframe\">\n",
       "  <thead>\n",
       "    <tr style=\"text-align: right;\">\n",
       "      <th></th>\n",
       "      <th>mpg</th>\n",
       "      <th>cylinders</th>\n",
       "      <th>displacement</th>\n",
       "      <th>horsepower</th>\n",
       "      <th>weight</th>\n",
       "      <th>acceleration</th>\n",
       "      <th>model</th>\n",
       "      <th>origin</th>\n",
       "      <th>car</th>\n",
       "      <th>owners</th>\n",
       "    </tr>\n",
       "  </thead>\n",
       "  <tbody>\n",
       "    <tr>\n",
       "      <th>392</th>\n",
       "      <td>27.0</td>\n",
       "      <td>4</td>\n",
       "      <td>140</td>\n",
       "      <td>86</td>\n",
       "      <td>2790</td>\n",
       "      <td>15.6</td>\n",
       "      <td>82</td>\n",
       "      <td>1</td>\n",
       "      <td>ford mustang gl</td>\n",
       "      <td>30597</td>\n",
       "    </tr>\n",
       "    <tr>\n",
       "      <th>393</th>\n",
       "      <td>44.0</td>\n",
       "      <td>4</td>\n",
       "      <td>97</td>\n",
       "      <td>52</td>\n",
       "      <td>2130</td>\n",
       "      <td>24.6</td>\n",
       "      <td>82</td>\n",
       "      <td>2</td>\n",
       "      <td>vw pickup</td>\n",
       "      <td>33631</td>\n",
       "    </tr>\n",
       "    <tr>\n",
       "      <th>394</th>\n",
       "      <td>32.0</td>\n",
       "      <td>4</td>\n",
       "      <td>135</td>\n",
       "      <td>84</td>\n",
       "      <td>2295</td>\n",
       "      <td>11.6</td>\n",
       "      <td>82</td>\n",
       "      <td>1</td>\n",
       "      <td>dodge rampage</td>\n",
       "      <td>53880</td>\n",
       "    </tr>\n",
       "    <tr>\n",
       "      <th>395</th>\n",
       "      <td>28.0</td>\n",
       "      <td>4</td>\n",
       "      <td>120</td>\n",
       "      <td>79</td>\n",
       "      <td>2625</td>\n",
       "      <td>18.6</td>\n",
       "      <td>82</td>\n",
       "      <td>1</td>\n",
       "      <td>ford ranger</td>\n",
       "      <td>25908</td>\n",
       "    </tr>\n",
       "    <tr>\n",
       "      <th>396</th>\n",
       "      <td>31.0</td>\n",
       "      <td>4</td>\n",
       "      <td>119</td>\n",
       "      <td>82</td>\n",
       "      <td>2720</td>\n",
       "      <td>19.4</td>\n",
       "      <td>82</td>\n",
       "      <td>1</td>\n",
       "      <td>chevy s-10</td>\n",
       "      <td>56696</td>\n",
       "    </tr>\n",
       "  </tbody>\n",
       "</table>\n",
       "</div>"
      ],
      "text/plain": [
       "      mpg  cylinders  displacement horsepower  weight  acceleration  model  \\\n",
       "392  27.0          4           140         86    2790          15.6     82   \n",
       "393  44.0          4            97         52    2130          24.6     82   \n",
       "394  32.0          4           135         84    2295          11.6     82   \n",
       "395  28.0          4           120         79    2625          18.6     82   \n",
       "396  31.0          4           119         82    2720          19.4     82   \n",
       "\n",
       "     origin              car  owners  \n",
       "392       1  ford mustang gl   30597  \n",
       "393       2        vw pickup   33631  \n",
       "394       1    dodge rampage   53880  \n",
       "395       1      ford ranger   25908  \n",
       "396       1       chevy s-10   56696  "
      ]
     },
     "execution_count": 45,
     "metadata": {},
     "output_type": "execute_result"
    }
   ],
   "source": [
    "cars[\"owners\"]=nr_owners\n",
    "cars.tail()"
   ]
  },
  {
   "cell_type": "code",
   "execution_count": null,
   "id": "3f3ed2f6-1429-4468-b62f-816e83c8d8f8",
   "metadata": {},
   "outputs": [],
   "source": []
  }
 ],
 "metadata": {
  "kernelspec": {
   "display_name": "Python (ETL Env)",
   "language": "python",
   "name": "etl_env"
  },
  "language_info": {
   "codemirror_mode": {
    "name": "ipython",
    "version": 3
   },
   "file_extension": ".py",
   "mimetype": "text/x-python",
   "name": "python",
   "nbconvert_exporter": "python",
   "pygments_lexer": "ipython3",
   "version": "3.10.18"
  }
 },
 "nbformat": 4,
 "nbformat_minor": 5
}
