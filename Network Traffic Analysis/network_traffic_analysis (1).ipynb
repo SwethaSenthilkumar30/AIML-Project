{
 "cells": [
  {
   "cell_type": "code",
   "execution_count": 0,
   "metadata": {
    "application/vnd.databricks.v1+cell": {
     "cellMetadata": {
      "byteLimit": 2048000,
      "rowLimit": 10000
     },
     "inputWidgets": {},
     "nuid": "991d0361-6711-4c0f-afc1-02a33f4c93cb",
     "showTitle": false,
     "tableResultSettingsMap": {},
     "title": ""
    }
   },
   "outputs": [
    {
     "output_type": "stream",
     "name": "stdout",
     "output_type": "stream",
     "text": [
      "Requirement already satisfied: scapy in /local_disk0/.ephemeral_nfs/envs/pythonEnv-8ae92542-bbb8-4b56-9c52-5ab3f3ec4982/lib/python3.11/site-packages (2.6.1)\n\u001B[43mNote: you may need to restart the kernel using %restart_python or dbutils.library.restartPython() to use updated packages.\u001B[0m\n"
     ]
    }
   ],
   "source": [
    "%pip install scapy"
   ]
  },
  {
   "cell_type": "code",
   "execution_count": 0,
   "metadata": {
    "application/vnd.databricks.v1+cell": {
     "cellMetadata": {
      "byteLimit": 2048000,
      "rowLimit": 10000
     },
     "inputWidgets": {},
     "nuid": "3a8917ac-7b05-4509-907e-546b2c30a851",
     "showTitle": false,
     "tableResultSettingsMap": {},
     "title": ""
    }
   },
   "outputs": [],
   "source": [
    "%restart_python\n",
    "     "
   ]
  },
  {
   "cell_type": "code",
   "execution_count": 0,
   "metadata": {
    "application/vnd.databricks.v1+cell": {
     "cellMetadata": {
      "byteLimit": 2048000,
      "rowLimit": 10000
     },
     "inputWidgets": {},
     "nuid": "bebc61f9-f1ba-4258-b439-ab424922bf8b",
     "showTitle": false,
     "tableResultSettingsMap": {},
     "title": ""
    }
   },
   "outputs": [
    {
     "output_type": "stream",
     "name": "stdout",
     "output_type": "stream",
     "text": [
      "Packet 1\n  Length: 62\n  Transport Layer: IP\n  Transport Layer: TCP\n  Summary: Ether / IP / TCP 145.254.160.237:3372 > 65.208.228.223:http S\n----------------------------------------\nPacket 2\n  Length: 62\n  Transport Layer: IP\n  Transport Layer: TCP\n  Summary: Ether / IP / TCP 65.208.228.223:http > 145.254.160.237:3372 SA\n----------------------------------------\nPacket 3\n  Length: 54\n  Transport Layer: IP\n  Transport Layer: TCP\n  Summary: Ether / IP / TCP 145.254.160.237:3372 > 65.208.228.223:http A\n----------------------------------------\nPacket 4\n  Length: 533\n  Transport Layer: IP\n  Transport Layer: TCP\n  Application Layer: HTTP\n  Summary: Ether / IP / TCP 145.254.160.237:3372 > 65.208.228.223:http PA / Raw\n----------------------------------------\nPacket 5\n  Length: 54\n  Transport Layer: IP\n  Transport Layer: TCP\n  Summary: Ether / IP / TCP 65.208.228.223:http > 145.254.160.237:3372 A\n----------------------------------------\n"
     ]
    }
   ],
   "source": [
    "from scapy.all import rdpcap, IP, TCP\n",
    "\n",
    "# Load the capture\n",
    "packets = rdpcap(\"/Volumes/muthu2/default/sample/http.cap\")\n",
    "\n",
    "# Analyze first 5 packets\n",
    "for i, pkt in enumerate(packets[:5]):\n",
    "    print(f\"Packet {i+1}\")\n",
    "    print(f\"  Length: {len(pkt)}\")\n",
    "    \n",
    "    # Check and print layers\n",
    "    if IP in pkt:\n",
    "        print(\"  Transport Layer: IP\")\n",
    "    if TCP in pkt:\n",
    "        print(\"  Transport Layer: TCP\")\n",
    "    if pkt.haslayer('Raw') and b\"HTTP\" in bytes(pkt['Raw']):\n",
    "        print(\"  Application Layer: HTTP\")\n",
    "    \n",
    "    print(f\"  Summary: {pkt.summary()}\")\n",
    "    print(\"-\" * 40)\n"
   ]
  },
  {
   "cell_type": "code",
   "execution_count": 0,
   "metadata": {
    "application/vnd.databricks.v1+cell": {
     "cellMetadata": {
      "byteLimit": 2048000,
      "rowLimit": 10000
     },
     "inputWidgets": {},
     "nuid": "aaaea375-c532-4ae8-9103-d73585ba3231",
     "showTitle": false,
     "tableResultSettingsMap": {},
     "title": ""
    }
   },
   "outputs": [
    {
     "output_type": "stream",
     "name": "stdout",
     "output_type": "stream",
     "text": [
      "Top 5 Source IPs:\n145.254.160.237: 20 packets\n65.208.228.223: 18 packets\n216.239.59.99: 4 packets\n145.253.2.203: 1 packets\n"
     ]
    }
   ],
   "source": [
    "from collections import Counter\n",
    "from scapy.all import rdpcap, IP\n",
    "\n",
    "packets = rdpcap(\"/Volumes/muthu2/default/sample/http.cap\")\n",
    "\n",
    "ip_counts = Counter()\n",
    "\n",
    "for pkt in packets:\n",
    "    if IP in pkt:\n",
    "        ip_counts[pkt[IP].src] += 1\n",
    "\n",
    "print(\"Top 5 Source IPs:\")\n",
    "for ip, count in ip_counts.most_common(5):\n",
    "    print(f\"{ip}: {count} packets\")"
   ]
  },
  {
   "cell_type": "code",
   "execution_count": 0,
   "metadata": {
    "application/vnd.databricks.v1+cell": {
     "cellMetadata": {
      "byteLimit": 2048000,
      "rowLimit": 10000
     },
     "inputWidgets": {},
     "nuid": "bf1bc0fa-ec1b-42de-9d97-7ae6152e0b5c",
     "showTitle": false,
     "tableResultSettingsMap": {},
     "title": ""
    }
   },
   "outputs": [
    {
     "output_type": "stream",
     "name": "stdout",
     "output_type": "stream",
     "text": [
      "Visited URLs:\nhttp://www.ethereal.com/download.html\nhttp://pagead2.googlesyndication.com/pagead/ads?client=ca-pub-2309191948673629&random=1084443430285&lmt=1082467020&format=468x60_as&output=html&url=http%3A%2F%2Fwww.ethereal.com%2Fdownload.html&color_bg=FFFFFF&color_text=333333&color_link=000000&color_url=666633&color_border=666633\n"
     ]
    }
   ],
   "source": [
    "from scapy.all import rdpcap, TCP\n",
    "\n",
    "packets = rdpcap(\"/Volumes/muthu2/default/sample/http.cap\")\n",
    "\n",
    "print(\"Visited URLs:\")\n",
    "for pkt in packets:\n",
    "    if pkt.haslayer(TCP) and pkt.haslayer('Raw'):\n",
    "        payload = pkt['Raw'].load\n",
    "        if b\"GET\" in payload or b\"POST\" in payload:\n",
    "            try:\n",
    "                lines = payload.split(b\"\\r\\n\")\n",
    "                host_line = next(line for line in lines if b\"Host:\" in line)\n",
    "                uri_line = lines[0]\n",
    "                host = host_line.split(b\":\")[1].strip().decode()\n",
    "                uri = uri_line.split(b\" \")[1].decode()\n",
    "                print(f\"http://{host}{uri}\")\n",
    "            except:\n",
    "                continue"
   ]
  },
  {
   "cell_type": "code",
   "execution_count": 0,
   "metadata": {
    "application/vnd.databricks.v1+cell": {
     "cellMetadata": {
      "byteLimit": 2048000,
      "rowLimit": 10000
     },
     "inputWidgets": {},
     "nuid": "c9d42f06-9728-48c1-8235-5416e8db8a18",
     "showTitle": false,
     "tableResultSettingsMap": {},
     "title": ""
    }
   },
   "outputs": [
    {
     "output_type": "stream",
     "name": "stdout",
     "output_type": "stream",
     "text": [
      "Top 10 Queried Domains:\ngoogle.com: 3 times\nwww.netbsd.org: 3 times\nGRIMM.utelsystems.local: 2 times\n104.9.192.66.in-addr.arpa: 1 times\nwww.google.com: 1 times\nwww.l.google.com: 1 times\nwww.example.com: 1 times\nwww.example.notginh: 1 times\nwww.isc.org: 1 times\n1.0.0.127.in-addr.arpa: 1 times\n"
     ]
    }
   ],
   "source": [
    "from scapy.all import rdpcap, DNS, DNSQR\n",
    "from collections import Counter\n",
    "\n",
    "# Load the capture file\n",
    "packets = rdpcap(\"/Volumes/muthu2/default/sample/dns.cap\")\n",
    "\n",
    "# Counter for domain names\n",
    "domain_counter = Counter()\n",
    "\n",
    "# Iterate over packets\n",
    "for pkt in packets:\n",
    "    if pkt.haslayer(DNS) and pkt.getlayer(DNS).qr == 0:  # qr=0 means it's a query\n",
    "        query = pkt.getlayer(DNSQR)\n",
    "        if query:\n",
    "            domain = query.qname.decode().strip('.')\n",
    "            domain_counter[domain] += 1\n",
    "\n",
    "# Print top 10 queried domains\n",
    "print(\"Top 10 Queried Domains:\")\n",
    "for domain, count in domain_counter.most_common(10):\n",
    "    print(f\"{domain}: {count} times\")\n"
   ]
  }
 ],
 "metadata": {
  "application/vnd.databricks.v1+notebook": {
   "computePreferences": null,
   "dashboards": [],
   "environmentMetadata": {
    "base_environment": "",
    "environment_version": "2"
   },
   "inputWidgetPreferences": null,
   "language": "python",
   "notebookMetadata": {
    "pythonIndentUnit": 4
   },
   "notebookName": "network_traffic_analysis",
   "widgets": {}
  },
  "language_info": {
   "name": "python"
  }
 },
 "nbformat": 4,
 "nbformat_minor": 0
}